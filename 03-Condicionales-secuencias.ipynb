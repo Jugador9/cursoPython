{
 "cells": [
  {
   "cell_type": "code",
   "execution_count": null,
   "metadata": {},
   "outputs": [],
   "source": [
    "# %% Repaso de Variables y Booleanos\n",
    "# Variables numéricas: int y float\n",
    "a = 42\n",
    "b = 3.14\n",
    "print(\"Entero:\", a, \"Tipo:\", type(a))\n",
    "print(\"Flotante:\", b, \"Tipo:\", type(b))\n",
    "\n",
    "# Booleanos y el concepto de truthiness\n",
    "en_cierto = True\n",
    "print(\"Booleano:\", en_cierto, \"Tipo:\", type(en_cierto))\n",
    "\n",
    "# Ejemplos de truthiness\n",
    "print(\"bool(0):\", bool(0))          # 0 es False\n",
    "print(\"bool(1):\", bool(1))          # 1 es True\n",
    "print(\"bool('texto'):\", bool(\"texto\"))  # String no vacío es True\n",
    "print(\"bool(''):\", bool(\"\"))        # String vacío es False\n"
   ]
  },
  {
   "cell_type": "code",
   "execution_count": null,
   "metadata": {},
   "outputs": [],
   "source": [
    "# %% Condicionales\n",
    "# Uso de if, elif, else con indentación\n",
    "numero = 10\n",
    "if numero > 10:\n",
    "    print(\"El número es mayor que 10\")\n",
    "elif numero == 10:\n",
    "    print(\"El número es igual a 10\")\n",
    "else:\n",
    "    print(\"El número es menor que 10\")\n"
   ]
  },
  {
   "cell_type": "code",
   "execution_count": null,
   "metadata": {},
   "outputs": [],
   "source": [
    "# %% Listas\n",
    "# Definir una lista (secuencia heterogénea y mutable)\n",
    "mi_lista = [1, \"dos\", 3.0, False]\n",
    "print(\"Lista inicial:\", mi_lista)\n",
    "\n",
    "# Acceso a elementos por índice\n",
    "print(\"Primer elemento:\", mi_lista[0])\n",
    "print(\"Último elemento:\", mi_lista[-1])\n",
    "\n",
    "# Modificar la lista: agregar y actualizar elementos\n",
    "mi_lista.append(\"nuevo elemento\")\n",
    "print(\"Lista tras agregar un elemento:\", mi_lista)\n",
    "mi_lista[1] = \"modificado\"\n",
    "print(\"Lista tras modificar el segundo elemento:\", mi_lista)\n"
   ]
  },
  {
   "cell_type": "code",
   "execution_count": null,
   "metadata": {},
   "outputs": [],
   "source": [
    "# %% Tuplas\n",
    "# Definir una tupla (secuencia heterogénea e inmutable)\n",
    "mi_tupla = (1, \"dos\", 3.0, True)\n",
    "print(\"Tupla:\", mi_tupla)\n",
    "\n",
    "# Acceso a elementos\n",
    "print(\"Elemento en la posición 2:\", mi_tupla[2])\n",
    "\n",
    "# Definir una tupla de un solo elemento (requiere una coma)\n",
    "tupla_un_elemento = (100,)\n",
    "print(\"Tupla de un elemento:\", tupla_un_elemento)\n"
   ]
  },
  {
   "cell_type": "code",
   "execution_count": null,
   "metadata": {},
   "outputs": [],
   "source": [
    "# %% Cadenas (Strings)\n",
    "# Definir una cadena (string)\n",
    "mi_string = \"Hola, Python!\"\n",
    "print(\"String:\", mi_string)\n",
    "print(\"Caracter en la posición 0:\", mi_string[0])\n",
    "\n",
    "# Raw strings (ignoran secuencias de escape)\n",
    "raw_str = r\"Este es un raw string \\n no se interpreta como salto de línea\"\n",
    "print(\"Raw string:\", raw_str)\n",
    "\n",
    "# Formatted strings (f-strings)\n",
    "nombre = \"Estudiante\"\n",
    "edad = 21\n",
    "mensaje = f\"Mi nombre es {nombre} y tengo {edad} años.\"\n",
    "print(\"Formatted string:\", mensaje)\n"
   ]
  },
  {
   "cell_type": "code",
   "execution_count": null,
   "metadata": {},
   "outputs": [],
   "source": [
    "# %% Indexado y Longitud de Secuencias\n",
    "# Ejemplo con una lista\n",
    "lista_ejemplo = [10, 20, 30, 40, 50]\n",
    "print(\"Lista de ejemplo:\", lista_ejemplo)\n",
    "print(\"Longitud de la lista:\", len(lista_ejemplo))\n",
    "print(\"Primer elemento:\", lista_ejemplo[0])\n",
    "print(\"Último elemento (índice positivo):\", lista_ejemplo[len(lista_ejemplo)-1])\n",
    "print(\"Último elemento (índice negativo):\", lista_ejemplo[-1])\n"
   ]
  }
 ],
 "metadata": {
  "language_info": {
   "name": "python"
  }
 },
 "nbformat": 4,
 "nbformat_minor": 2
}
