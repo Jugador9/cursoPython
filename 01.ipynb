{
 "cells": [
  {
   "cell_type": "markdown",
   "metadata": {},
   "source": []
  },
  {
   "cell_type": "markdown",
   "metadata": {},
   "source": [
    "## Hola mundo\n",
    "Este texto no explica nada \n",
    "$e^-i + 1 = 0$"
   ]
  },
  {
   "cell_type": "code",
   "execution_count": null,
   "metadata": {},
   "outputs": [],
   "source": [
    "\n",
    "# Ejemplo de manejo de variables numéricas en Python\n",
    "\n",
    "# Declaración de variables numéricas\n",
    "entero = 10          # Tipo int\n",
    "decimal = 3.14       # Tipo float\n",
    "complejo = 2 + 3j    # Tipo complex\n"
   ]
  },
  {
   "cell_type": "code",
   "execution_count": null,
   "metadata": {},
   "outputs": [],
   "source": [
    "\n",
    "# Operaciones básicas\n",
    "suma = entero + decimal\n",
    "resta = entero - 5\n",
    "multiplicacion = decimal * 2\n",
    "division = entero / 4\n"
   ]
  },
  {
   "cell_type": "code",
   "execution_count": null,
   "metadata": {},
   "outputs": [],
   "source": [
    "import math\n",
    "\n",
    "# Ejemplo de uso de math.floor()\n",
    "resultado = math.floor(0.5)\n",
    "print(resultado)  # Salida: 0"
   ]
  },
  {
   "cell_type": "code",
   "execution_count": null,
   "metadata": {},
   "outputs": [],
   "source": [
    "import math\n",
    "\n",
    "# Ejemplo con un número negativo\n",
    "resultado = math.floor(-1.6)\n",
    "print(resultado)  # Salida: -2"
   ]
  },
  {
   "cell_type": "code",
   "execution_count": 1,
   "metadata": {},
   "outputs": [
    {
     "name": "stdout",
     "output_type": "stream",
     "text": [
      "3\n",
      "1\n",
      "3.5\n",
      "3.5\n"
     ]
    }
   ],
   "source": [
    "import math\n",
    "\n",
    "# Floor division (división entera)\n",
    "a = 7\n",
    "b = 2\n",
    "division_entera = a // b  # Equivalente a math.floor(a / b)\n",
    "print(division_entera)    # Salida: 3\n",
    "\n",
    "# Módulo (resto de la división)\n",
    "modulo = a % b  # Equivalente a a - b * (a // b)\n",
    "print(modulo)   # Salida: 1\n",
    "\n",
    "# Relación entre división, división entera y módulo\n",
    "division = a / b  # División normal\n",
    "relacion = division_entera + (a % b) / b\n",
    "print(division)   # Salida: 3.5\n",
    "print(relacion)   # Salida: 3.5"
   ]
  }
 ],
 "metadata": {
  "kernelspec": {
   "display_name": ".venv",
   "language": "python",
   "name": "python3"
  },
  "language_info": {
   "codemirror_mode": {
    "name": "ipython",
    "version": 3
   },
   "file_extension": ".py",
   "mimetype": "text/x-python",
   "name": "python",
   "nbconvert_exporter": "python",
   "pygments_lexer": "ipython3",
   "version": "3.11.9"
  }
 },
 "nbformat": 4,
 "nbformat_minor": 2
}
